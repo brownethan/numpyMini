{
  "nbformat": 4,
  "nbformat_minor": 0,
  "metadata": {
    "colab": {
      "provenance": [],
      "authorship_tag": "ABX9TyPWFBg2cdz1YgXjjrqFoWbt",
      "include_colab_link": true
    },
    "kernelspec": {
      "name": "python3",
      "display_name": "Python 3"
    },
    "language_info": {
      "name": "python"
    }
  },
  "cells": [
    {
      "cell_type": "markdown",
      "metadata": {
        "id": "view-in-github",
        "colab_type": "text"
      },
      "source": [
        "<a href=\"https://colab.research.google.com/github/brownethan/numpyMini/blob/main/numpyDemo.ipynb\" target=\"_parent\"><img src=\"https://colab.research.google.com/assets/colab-badge.svg\" alt=\"Open In Colab\"/></a>"
      ]
    },
    {
      "cell_type": "code",
      "execution_count": 24,
      "metadata": {
        "id": "TFtMlmdG0C0c"
      },
      "outputs": [],
      "source": [
        "import numpy as np\n",
        "import sys\n",
        "import datetime\n",
        "import math"
      ]
    },
    {
      "cell_type": "code",
      "source": [
        "def inside_circle(total_count):\n",
        "  x = np.random.uniform(size=total_count)\n",
        "  y = np.random.uniform(size=total_count)\n",
        "  radii = np.sqrt(x*x+y*y)\n",
        "  count = len(radii[np.where(radii<=1.0)])\n",
        "  return count"
      ],
      "metadata": {
        "id": "-7eyQU3b6V0E"
      },
      "execution_count": 25,
      "outputs": []
    },
    {
      "cell_type": "code",
      "source": [
        "# Changed n_samples to be in range of 100 to 100,000,000 and output it into the print statement\n",
        "def main():\n",
        "    for n_samples in [10**exp for exp in range(2,9)]:\n",
        "      start_time = datetime.datetime.now()\n",
        "      counts = inside_circle(n_samples)\n",
        "      my_pi = 4.0 * counts / n_samples\n",
        "      end_time = datetime.datetime.now()\n",
        "      elapsed_time = (end_time - start_time).total_seconds()\n",
        "      size_of_float = np.dtype(np.float64).itemsize\n",
        "      memory_required = 3 * n_samples * size_of_float / (1024**3)\n",
        "      print(\"Pi: {}, memory: {} GiB, time: {} s, Number of samples: {}\".format(my_pi, memory_required,\n",
        "                                                      elapsed_time, n_samples))\n",
        "\n",
        "if __name__ == '__main__':\n",
        "    main()"
      ],
      "metadata": {
        "colab": {
          "base_uri": "https://localhost:8080/"
        },
        "id": "JnwXybCm61EX",
        "outputId": "8534a5de-97cd-4b29-e1c5-386ddf318512"
      },
      "execution_count": 26,
      "outputs": [
        {
          "output_type": "stream",
          "name": "stdout",
          "text": [
            "Pi: 3.16, memory: 2.2351741790771484e-06 GiB, time: 0.000359 s, Number of samples: 100\n",
            "Pi: 3.136, memory: 2.2351741790771484e-05 GiB, time: 0.000158 s, Number of samples: 1000\n",
            "Pi: 3.162, memory: 0.00022351741790771484 GiB, time: 0.000593 s, Number of samples: 10000\n",
            "Pi: 3.14836, memory: 0.0022351741790771484 GiB, time: 0.004918 s, Number of samples: 100000\n",
            "Pi: 3.139892, memory: 0.022351741790771484 GiB, time: 0.047514 s, Number of samples: 1000000\n",
            "Pi: 3.141058, memory: 0.22351741790771484 GiB, time: 0.526444 s, Number of samples: 10000000\n",
            "Pi: 3.14184408, memory: 2.2351741790771484 GiB, time: 5.312828 s, Number of samples: 100000000\n"
          ]
        }
      ]
    },
    {
      "cell_type": "code",
      "source": [
        "# Outputing relative error along with other statements\n",
        "def main():\n",
        "    for n_samples in [10**exp for exp in range(2,9)]:\n",
        "      start_time = datetime.datetime.now()\n",
        "      counts = inside_circle(n_samples)\n",
        "      my_pi = 4.0 * counts / n_samples\n",
        "      end_time = datetime.datetime.now()\n",
        "      elapsed_time = (end_time - start_time).total_seconds()\n",
        "      size_of_float = np.dtype(np.float64).itemsize\n",
        "      memory_required = 3 * n_samples * size_of_float / (1024**3)\n",
        "      rel_error = abs(math.pi - my_pi)/math.pi\n",
        "      print(\"Pi: {}, memory: {} GiB, time: {} s, Number of samples: {}, Relative Error: {}\".format(my_pi, memory_required,\n",
        "                                                      elapsed_time, n_samples, rel_error))\n",
        "\n",
        "if __name__ == '__main__':\n",
        "    main()"
      ],
      "metadata": {
        "id": "SO-RqZUXZ6bx",
        "colab": {
          "base_uri": "https://localhost:8080/"
        },
        "outputId": "c4a6ebe8-0966-4dc2-a8c5-db22dc48a58c"
      },
      "execution_count": 27,
      "outputs": [
        {
          "output_type": "stream",
          "name": "stdout",
          "text": [
            "Pi: 3.04, memory: 2.2351741790771484e-06 GiB, time: 0.000244 s, Number of samples: 100, Relative Error: 0.03233794600127631\n",
            "Pi: 3.188, memory: 2.2351741790771484e-05 GiB, time: 0.001053 s, Number of samples: 1000, Relative Error: 0.014771917153924754\n",
            "Pi: 3.1556, memory: 0.00022351741790771484 GiB, time: 0.000759 s, Number of samples: 10000, Relative Error: 0.00445867684156994\n",
            "Pi: 3.14132, memory: 0.0022351741790771484 GiB, time: 0.004956 s, Number of samples: 100000, Relative Error: 8.678833313468367e-05\n",
            "Pi: 3.143312, memory: 0.022351741790771484 GiB, time: 0.048064 s, Number of samples: 1000000, Relative Error: 0.0005472849601434254\n",
            "Pi: 3.1412536, memory: 0.22351741790771484 GiB, time: 0.603572 s, Number of samples: 10000000, Relative Error: 0.00010792410957718835\n",
            "Pi: 3.14150164, memory: 2.2351741790771484 GiB, time: 5.051557 s, Number of samples: 100000000, Relative Error: 2.8970525408230028e-05\n"
          ]
        }
      ]
    },
    {
      "cell_type": "code",
      "source": [],
      "metadata": {
        "id": "QLvnVAWydbpE"
      },
      "execution_count": null,
      "outputs": []
    }
  ]
}