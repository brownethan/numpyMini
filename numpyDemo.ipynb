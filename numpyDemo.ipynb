{
  "nbformat": 4,
  "nbformat_minor": 0,
  "metadata": {
    "colab": {
      "provenance": [],
      "authorship_tag": "ABX9TyO92rzrCd1Nw4RPW18FGeIB",
      "include_colab_link": true
    },
    "kernelspec": {
      "name": "python3",
      "display_name": "Python 3"
    },
    "language_info": {
      "name": "python"
    }
  },
  "cells": [
    {
      "cell_type": "markdown",
      "metadata": {
        "id": "view-in-github",
        "colab_type": "text"
      },
      "source": [
        "<a href=\"https://colab.research.google.com/github/brownethan/numpyMini/blob/main/numpyDemo.ipynb\" target=\"_parent\"><img src=\"https://colab.research.google.com/assets/colab-badge.svg\" alt=\"Open In Colab\"/></a>"
      ]
    },
    {
      "cell_type": "code",
      "execution_count": 19,
      "metadata": {
        "id": "TFtMlmdG0C0c"
      },
      "outputs": [],
      "source": [
        "import numpy as np\n",
        "import sys\n",
        "import datetime\n",
        "import math\n",
        "import matplotlib.pyplot as plt"
      ]
    },
    {
      "cell_type": "code",
      "source": [
        "def inside_circle(total_count):\n",
        "  x = np.random.uniform(size=total_count)\n",
        "  y = np.random.uniform(size=total_count)\n",
        "  radii = np.sqrt(x*x+y*y)\n",
        "  count = len(radii[np.where(radii<=1.0)])\n",
        "  return count"
      ],
      "metadata": {
        "id": "-7eyQU3b6V0E"
      },
      "execution_count": 20,
      "outputs": []
    },
    {
      "cell_type": "code",
      "source": [
        "# Changed n_samples to be in range of 100 to 100,000,000 and output it into the print statement\n",
        "def main():\n",
        "    for n_samples in [10**exp for exp in range(2,9)]:\n",
        "      start_time = datetime.datetime.now()\n",
        "      counts = inside_circle(n_samples)\n",
        "      my_pi = 4.0 * counts / n_samples\n",
        "      end_time = datetime.datetime.now()\n",
        "      elapsed_time = (end_time - start_time).total_seconds()\n",
        "      size_of_float = np.dtype(np.float64).itemsize\n",
        "      memory_required = 3 * n_samples * size_of_float / (1024**3)\n",
        "      print(\"Pi: {}, memory: {} GiB, time: {} s, Number of samples: {}\".format(my_pi, memory_required,\n",
        "                                                      elapsed_time, n_samples))\n",
        "\n",
        "if __name__ == '__main__':\n",
        "    main()"
      ],
      "metadata": {
        "colab": {
          "base_uri": "https://localhost:8080/"
        },
        "id": "JnwXybCm61EX",
        "outputId": "26f9050d-7580-49ff-e814-a39032fde155"
      },
      "execution_count": 21,
      "outputs": [
        {
          "output_type": "stream",
          "name": "stdout",
          "text": [
            "Pi: 3.44, memory: 2.2351741790771484e-06 GiB, time: 0.000192 s, Number of samples: 100\n",
            "Pi: 3.196, memory: 2.2351741790771484e-05 GiB, time: 0.00012 s, Number of samples: 1000\n",
            "Pi: 3.1528, memory: 0.00022351741790771484 GiB, time: 0.0005 s, Number of samples: 10000\n",
            "Pi: 3.1384, memory: 0.0022351741790771484 GiB, time: 0.004923 s, Number of samples: 100000\n",
            "Pi: 3.140732, memory: 0.022351741790771484 GiB, time: 0.088388 s, Number of samples: 1000000\n",
            "Pi: 3.1415352, memory: 0.22351741790771484 GiB, time: 0.86209 s, Number of samples: 10000000\n",
            "Pi: 3.14204552, memory: 2.2351741790771484 GiB, time: 5.099668 s, Number of samples: 100000000\n"
          ]
        }
      ]
    },
    {
      "cell_type": "code",
      "source": [
        "# Outputing relative error along with other statements and outputting to a csv\n",
        "def main():\n",
        "  numpyPi = np.array( [] )\n",
        "  for n_samples in [10**exp for exp in range(2,9)]:\n",
        "    start_time = datetime.datetime.now()\n",
        "    counts = inside_circle(n_samples)\n",
        "    my_pi = 4.0 * counts / n_samples\n",
        "    end_time = datetime.datetime.now()\n",
        "    elapsed_time = (end_time - start_time).total_seconds()\n",
        "    size_of_float = np.dtype(np.float64).itemsize\n",
        "    memory_required = 3 * n_samples * size_of_float / (1024**3)\n",
        "    rel_error = abs(math.pi - my_pi)/math.pi\n",
        "\n",
        "    rowCSV = np.append(numpyPi, [my_pi, memory_required, elapsed_time, n_samples, rel_error])\n",
        "    numpyPi = np.append(numpyPi, rowCSV)\n",
        "\n",
        "    print(\"Pi: {}, memory: {} GiB, time: {} s, Number of samples: {}, Relative Error: {}\".format(my_pi, memory_required,\n",
        "                                                      elapsed_time, n_samples, rel_error))\n",
        "    numpyPi = numpyPi.reshape(-1, 5)\n",
        "\n",
        "    np.savetxt(\"piSim.csv\", numpyPi, delimiter = ',')\n",
        "if __name__ == '__main__':\n",
        "    main()"
      ],
      "metadata": {
        "id": "SO-RqZUXZ6bx",
        "colab": {
          "base_uri": "https://localhost:8080/"
        },
        "outputId": "49cb5d48-35f2-44ec-a69a-ee090cdceed5"
      },
      "execution_count": 22,
      "outputs": [
        {
          "output_type": "stream",
          "name": "stdout",
          "text": [
            "Pi: 3.28, memory: 2.2351741790771484e-06 GiB, time: 0.000204 s, Number of samples: 100, Relative Error: 0.04405642668283338\n",
            "Pi: 3.192, memory: 2.2351741790771484e-05 GiB, time: 0.00012 s, Number of samples: 1000, Relative Error: 0.016045156698659916\n",
            "Pi: 3.136, memory: 0.00022351741790771484 GiB, time: 0.000504 s, Number of samples: 10000, Relative Error: 0.0017801969276323767\n",
            "Pi: 3.1442, memory: 0.0022351741790771484 GiB, time: 0.003359 s, Number of samples: 100000, Relative Error: 0.0008299441390747022\n",
            "Pi: 3.13874, memory: 0.022351741790771484 GiB, time: 0.0405 s, Number of samples: 1000000, Relative Error: 0.0009080278394888721\n",
            "Pi: 3.1412456, memory: 0.22351741790771484 GiB, time: 0.446776 s, Number of samples: 10000000, Relative Error: 0.00011047058866673191\n",
            "Pi: 3.14166708, memory: 2.2351741790771484 GiB, time: 4.705351 s, Number of samples: 100000000, Relative Error: 2.3690662162003944e-05\n"
          ]
        }
      ]
    },
    {
      "cell_type": "code",
      "source": [
        "numpyPi= np.loadtxt(fname = \"piSim.csv\", delimiter=',')\n",
        "print(numpyPi)"
      ],
      "metadata": {
        "colab": {
          "base_uri": "https://localhost:8080/"
        },
        "id": "QLvnVAWydbpE",
        "outputId": "1054617b-2714-416f-c60a-db0416d670fe"
      },
      "execution_count": 23,
      "outputs": [
        {
          "output_type": "stream",
          "name": "stdout",
          "text": [
            "[[3.28000000e+00 2.23517418e-06 2.04000000e-04 1.00000000e+02\n",
            "  4.40564267e-02]\n",
            " [3.28000000e+00 2.23517418e-06 2.04000000e-04 1.00000000e+02\n",
            "  4.40564267e-02]\n",
            " [3.19200000e+00 2.23517418e-05 1.20000000e-04 1.00000000e+03\n",
            "  1.60451567e-02]\n",
            " [3.28000000e+00 2.23517418e-06 2.04000000e-04 1.00000000e+02\n",
            "  4.40564267e-02]\n",
            " [3.28000000e+00 2.23517418e-06 2.04000000e-04 1.00000000e+02\n",
            "  4.40564267e-02]\n",
            " [3.19200000e+00 2.23517418e-05 1.20000000e-04 1.00000000e+03\n",
            "  1.60451567e-02]\n",
            " [3.13600000e+00 2.23517418e-04 5.04000000e-04 1.00000000e+04\n",
            "  1.78019693e-03]\n",
            " [3.28000000e+00 2.23517418e-06 2.04000000e-04 1.00000000e+02\n",
            "  4.40564267e-02]\n",
            " [3.28000000e+00 2.23517418e-06 2.04000000e-04 1.00000000e+02\n",
            "  4.40564267e-02]\n",
            " [3.19200000e+00 2.23517418e-05 1.20000000e-04 1.00000000e+03\n",
            "  1.60451567e-02]\n",
            " [3.28000000e+00 2.23517418e-06 2.04000000e-04 1.00000000e+02\n",
            "  4.40564267e-02]\n",
            " [3.28000000e+00 2.23517418e-06 2.04000000e-04 1.00000000e+02\n",
            "  4.40564267e-02]\n",
            " [3.19200000e+00 2.23517418e-05 1.20000000e-04 1.00000000e+03\n",
            "  1.60451567e-02]\n",
            " [3.13600000e+00 2.23517418e-04 5.04000000e-04 1.00000000e+04\n",
            "  1.78019693e-03]\n",
            " [3.14420000e+00 2.23517418e-03 3.35900000e-03 1.00000000e+05\n",
            "  8.29944139e-04]\n",
            " [3.28000000e+00 2.23517418e-06 2.04000000e-04 1.00000000e+02\n",
            "  4.40564267e-02]\n",
            " [3.28000000e+00 2.23517418e-06 2.04000000e-04 1.00000000e+02\n",
            "  4.40564267e-02]\n",
            " [3.19200000e+00 2.23517418e-05 1.20000000e-04 1.00000000e+03\n",
            "  1.60451567e-02]\n",
            " [3.28000000e+00 2.23517418e-06 2.04000000e-04 1.00000000e+02\n",
            "  4.40564267e-02]\n",
            " [3.28000000e+00 2.23517418e-06 2.04000000e-04 1.00000000e+02\n",
            "  4.40564267e-02]\n",
            " [3.19200000e+00 2.23517418e-05 1.20000000e-04 1.00000000e+03\n",
            "  1.60451567e-02]\n",
            " [3.13600000e+00 2.23517418e-04 5.04000000e-04 1.00000000e+04\n",
            "  1.78019693e-03]\n",
            " [3.28000000e+00 2.23517418e-06 2.04000000e-04 1.00000000e+02\n",
            "  4.40564267e-02]\n",
            " [3.28000000e+00 2.23517418e-06 2.04000000e-04 1.00000000e+02\n",
            "  4.40564267e-02]\n",
            " [3.19200000e+00 2.23517418e-05 1.20000000e-04 1.00000000e+03\n",
            "  1.60451567e-02]\n",
            " [3.28000000e+00 2.23517418e-06 2.04000000e-04 1.00000000e+02\n",
            "  4.40564267e-02]\n",
            " [3.28000000e+00 2.23517418e-06 2.04000000e-04 1.00000000e+02\n",
            "  4.40564267e-02]\n",
            " [3.19200000e+00 2.23517418e-05 1.20000000e-04 1.00000000e+03\n",
            "  1.60451567e-02]\n",
            " [3.13600000e+00 2.23517418e-04 5.04000000e-04 1.00000000e+04\n",
            "  1.78019693e-03]\n",
            " [3.14420000e+00 2.23517418e-03 3.35900000e-03 1.00000000e+05\n",
            "  8.29944139e-04]\n",
            " [3.13874000e+00 2.23517418e-02 4.05000000e-02 1.00000000e+06\n",
            "  9.08027839e-04]\n",
            " [3.28000000e+00 2.23517418e-06 2.04000000e-04 1.00000000e+02\n",
            "  4.40564267e-02]\n",
            " [3.28000000e+00 2.23517418e-06 2.04000000e-04 1.00000000e+02\n",
            "  4.40564267e-02]\n",
            " [3.19200000e+00 2.23517418e-05 1.20000000e-04 1.00000000e+03\n",
            "  1.60451567e-02]\n",
            " [3.28000000e+00 2.23517418e-06 2.04000000e-04 1.00000000e+02\n",
            "  4.40564267e-02]\n",
            " [3.28000000e+00 2.23517418e-06 2.04000000e-04 1.00000000e+02\n",
            "  4.40564267e-02]\n",
            " [3.19200000e+00 2.23517418e-05 1.20000000e-04 1.00000000e+03\n",
            "  1.60451567e-02]\n",
            " [3.13600000e+00 2.23517418e-04 5.04000000e-04 1.00000000e+04\n",
            "  1.78019693e-03]\n",
            " [3.28000000e+00 2.23517418e-06 2.04000000e-04 1.00000000e+02\n",
            "  4.40564267e-02]\n",
            " [3.28000000e+00 2.23517418e-06 2.04000000e-04 1.00000000e+02\n",
            "  4.40564267e-02]\n",
            " [3.19200000e+00 2.23517418e-05 1.20000000e-04 1.00000000e+03\n",
            "  1.60451567e-02]\n",
            " [3.28000000e+00 2.23517418e-06 2.04000000e-04 1.00000000e+02\n",
            "  4.40564267e-02]\n",
            " [3.28000000e+00 2.23517418e-06 2.04000000e-04 1.00000000e+02\n",
            "  4.40564267e-02]\n",
            " [3.19200000e+00 2.23517418e-05 1.20000000e-04 1.00000000e+03\n",
            "  1.60451567e-02]\n",
            " [3.13600000e+00 2.23517418e-04 5.04000000e-04 1.00000000e+04\n",
            "  1.78019693e-03]\n",
            " [3.14420000e+00 2.23517418e-03 3.35900000e-03 1.00000000e+05\n",
            "  8.29944139e-04]\n",
            " [3.28000000e+00 2.23517418e-06 2.04000000e-04 1.00000000e+02\n",
            "  4.40564267e-02]\n",
            " [3.28000000e+00 2.23517418e-06 2.04000000e-04 1.00000000e+02\n",
            "  4.40564267e-02]\n",
            " [3.19200000e+00 2.23517418e-05 1.20000000e-04 1.00000000e+03\n",
            "  1.60451567e-02]\n",
            " [3.28000000e+00 2.23517418e-06 2.04000000e-04 1.00000000e+02\n",
            "  4.40564267e-02]\n",
            " [3.28000000e+00 2.23517418e-06 2.04000000e-04 1.00000000e+02\n",
            "  4.40564267e-02]\n",
            " [3.19200000e+00 2.23517418e-05 1.20000000e-04 1.00000000e+03\n",
            "  1.60451567e-02]\n",
            " [3.13600000e+00 2.23517418e-04 5.04000000e-04 1.00000000e+04\n",
            "  1.78019693e-03]\n",
            " [3.28000000e+00 2.23517418e-06 2.04000000e-04 1.00000000e+02\n",
            "  4.40564267e-02]\n",
            " [3.28000000e+00 2.23517418e-06 2.04000000e-04 1.00000000e+02\n",
            "  4.40564267e-02]\n",
            " [3.19200000e+00 2.23517418e-05 1.20000000e-04 1.00000000e+03\n",
            "  1.60451567e-02]\n",
            " [3.28000000e+00 2.23517418e-06 2.04000000e-04 1.00000000e+02\n",
            "  4.40564267e-02]\n",
            " [3.28000000e+00 2.23517418e-06 2.04000000e-04 1.00000000e+02\n",
            "  4.40564267e-02]\n",
            " [3.19200000e+00 2.23517418e-05 1.20000000e-04 1.00000000e+03\n",
            "  1.60451567e-02]\n",
            " [3.13600000e+00 2.23517418e-04 5.04000000e-04 1.00000000e+04\n",
            "  1.78019693e-03]\n",
            " [3.14420000e+00 2.23517418e-03 3.35900000e-03 1.00000000e+05\n",
            "  8.29944139e-04]\n",
            " [3.13874000e+00 2.23517418e-02 4.05000000e-02 1.00000000e+06\n",
            "  9.08027839e-04]\n",
            " [3.14124560e+00 2.23517418e-01 4.46776000e-01 1.00000000e+07\n",
            "  1.10470589e-04]\n",
            " [3.28000000e+00 2.23517418e-06 2.04000000e-04 1.00000000e+02\n",
            "  4.40564267e-02]\n",
            " [3.28000000e+00 2.23517418e-06 2.04000000e-04 1.00000000e+02\n",
            "  4.40564267e-02]\n",
            " [3.19200000e+00 2.23517418e-05 1.20000000e-04 1.00000000e+03\n",
            "  1.60451567e-02]\n",
            " [3.28000000e+00 2.23517418e-06 2.04000000e-04 1.00000000e+02\n",
            "  4.40564267e-02]\n",
            " [3.28000000e+00 2.23517418e-06 2.04000000e-04 1.00000000e+02\n",
            "  4.40564267e-02]\n",
            " [3.19200000e+00 2.23517418e-05 1.20000000e-04 1.00000000e+03\n",
            "  1.60451567e-02]\n",
            " [3.13600000e+00 2.23517418e-04 5.04000000e-04 1.00000000e+04\n",
            "  1.78019693e-03]\n",
            " [3.28000000e+00 2.23517418e-06 2.04000000e-04 1.00000000e+02\n",
            "  4.40564267e-02]\n",
            " [3.28000000e+00 2.23517418e-06 2.04000000e-04 1.00000000e+02\n",
            "  4.40564267e-02]\n",
            " [3.19200000e+00 2.23517418e-05 1.20000000e-04 1.00000000e+03\n",
            "  1.60451567e-02]\n",
            " [3.28000000e+00 2.23517418e-06 2.04000000e-04 1.00000000e+02\n",
            "  4.40564267e-02]\n",
            " [3.28000000e+00 2.23517418e-06 2.04000000e-04 1.00000000e+02\n",
            "  4.40564267e-02]\n",
            " [3.19200000e+00 2.23517418e-05 1.20000000e-04 1.00000000e+03\n",
            "  1.60451567e-02]\n",
            " [3.13600000e+00 2.23517418e-04 5.04000000e-04 1.00000000e+04\n",
            "  1.78019693e-03]\n",
            " [3.14420000e+00 2.23517418e-03 3.35900000e-03 1.00000000e+05\n",
            "  8.29944139e-04]\n",
            " [3.28000000e+00 2.23517418e-06 2.04000000e-04 1.00000000e+02\n",
            "  4.40564267e-02]\n",
            " [3.28000000e+00 2.23517418e-06 2.04000000e-04 1.00000000e+02\n",
            "  4.40564267e-02]\n",
            " [3.19200000e+00 2.23517418e-05 1.20000000e-04 1.00000000e+03\n",
            "  1.60451567e-02]\n",
            " [3.28000000e+00 2.23517418e-06 2.04000000e-04 1.00000000e+02\n",
            "  4.40564267e-02]\n",
            " [3.28000000e+00 2.23517418e-06 2.04000000e-04 1.00000000e+02\n",
            "  4.40564267e-02]\n",
            " [3.19200000e+00 2.23517418e-05 1.20000000e-04 1.00000000e+03\n",
            "  1.60451567e-02]\n",
            " [3.13600000e+00 2.23517418e-04 5.04000000e-04 1.00000000e+04\n",
            "  1.78019693e-03]\n",
            " [3.28000000e+00 2.23517418e-06 2.04000000e-04 1.00000000e+02\n",
            "  4.40564267e-02]\n",
            " [3.28000000e+00 2.23517418e-06 2.04000000e-04 1.00000000e+02\n",
            "  4.40564267e-02]\n",
            " [3.19200000e+00 2.23517418e-05 1.20000000e-04 1.00000000e+03\n",
            "  1.60451567e-02]\n",
            " [3.28000000e+00 2.23517418e-06 2.04000000e-04 1.00000000e+02\n",
            "  4.40564267e-02]\n",
            " [3.28000000e+00 2.23517418e-06 2.04000000e-04 1.00000000e+02\n",
            "  4.40564267e-02]\n",
            " [3.19200000e+00 2.23517418e-05 1.20000000e-04 1.00000000e+03\n",
            "  1.60451567e-02]\n",
            " [3.13600000e+00 2.23517418e-04 5.04000000e-04 1.00000000e+04\n",
            "  1.78019693e-03]\n",
            " [3.14420000e+00 2.23517418e-03 3.35900000e-03 1.00000000e+05\n",
            "  8.29944139e-04]\n",
            " [3.13874000e+00 2.23517418e-02 4.05000000e-02 1.00000000e+06\n",
            "  9.08027839e-04]\n",
            " [3.28000000e+00 2.23517418e-06 2.04000000e-04 1.00000000e+02\n",
            "  4.40564267e-02]\n",
            " [3.28000000e+00 2.23517418e-06 2.04000000e-04 1.00000000e+02\n",
            "  4.40564267e-02]\n",
            " [3.19200000e+00 2.23517418e-05 1.20000000e-04 1.00000000e+03\n",
            "  1.60451567e-02]\n",
            " [3.28000000e+00 2.23517418e-06 2.04000000e-04 1.00000000e+02\n",
            "  4.40564267e-02]\n",
            " [3.28000000e+00 2.23517418e-06 2.04000000e-04 1.00000000e+02\n",
            "  4.40564267e-02]\n",
            " [3.19200000e+00 2.23517418e-05 1.20000000e-04 1.00000000e+03\n",
            "  1.60451567e-02]\n",
            " [3.13600000e+00 2.23517418e-04 5.04000000e-04 1.00000000e+04\n",
            "  1.78019693e-03]\n",
            " [3.28000000e+00 2.23517418e-06 2.04000000e-04 1.00000000e+02\n",
            "  4.40564267e-02]\n",
            " [3.28000000e+00 2.23517418e-06 2.04000000e-04 1.00000000e+02\n",
            "  4.40564267e-02]\n",
            " [3.19200000e+00 2.23517418e-05 1.20000000e-04 1.00000000e+03\n",
            "  1.60451567e-02]\n",
            " [3.28000000e+00 2.23517418e-06 2.04000000e-04 1.00000000e+02\n",
            "  4.40564267e-02]\n",
            " [3.28000000e+00 2.23517418e-06 2.04000000e-04 1.00000000e+02\n",
            "  4.40564267e-02]\n",
            " [3.19200000e+00 2.23517418e-05 1.20000000e-04 1.00000000e+03\n",
            "  1.60451567e-02]\n",
            " [3.13600000e+00 2.23517418e-04 5.04000000e-04 1.00000000e+04\n",
            "  1.78019693e-03]\n",
            " [3.14420000e+00 2.23517418e-03 3.35900000e-03 1.00000000e+05\n",
            "  8.29944139e-04]\n",
            " [3.28000000e+00 2.23517418e-06 2.04000000e-04 1.00000000e+02\n",
            "  4.40564267e-02]\n",
            " [3.28000000e+00 2.23517418e-06 2.04000000e-04 1.00000000e+02\n",
            "  4.40564267e-02]\n",
            " [3.19200000e+00 2.23517418e-05 1.20000000e-04 1.00000000e+03\n",
            "  1.60451567e-02]\n",
            " [3.28000000e+00 2.23517418e-06 2.04000000e-04 1.00000000e+02\n",
            "  4.40564267e-02]\n",
            " [3.28000000e+00 2.23517418e-06 2.04000000e-04 1.00000000e+02\n",
            "  4.40564267e-02]\n",
            " [3.19200000e+00 2.23517418e-05 1.20000000e-04 1.00000000e+03\n",
            "  1.60451567e-02]\n",
            " [3.13600000e+00 2.23517418e-04 5.04000000e-04 1.00000000e+04\n",
            "  1.78019693e-03]\n",
            " [3.28000000e+00 2.23517418e-06 2.04000000e-04 1.00000000e+02\n",
            "  4.40564267e-02]\n",
            " [3.28000000e+00 2.23517418e-06 2.04000000e-04 1.00000000e+02\n",
            "  4.40564267e-02]\n",
            " [3.19200000e+00 2.23517418e-05 1.20000000e-04 1.00000000e+03\n",
            "  1.60451567e-02]\n",
            " [3.28000000e+00 2.23517418e-06 2.04000000e-04 1.00000000e+02\n",
            "  4.40564267e-02]\n",
            " [3.28000000e+00 2.23517418e-06 2.04000000e-04 1.00000000e+02\n",
            "  4.40564267e-02]\n",
            " [3.19200000e+00 2.23517418e-05 1.20000000e-04 1.00000000e+03\n",
            "  1.60451567e-02]\n",
            " [3.13600000e+00 2.23517418e-04 5.04000000e-04 1.00000000e+04\n",
            "  1.78019693e-03]\n",
            " [3.14420000e+00 2.23517418e-03 3.35900000e-03 1.00000000e+05\n",
            "  8.29944139e-04]\n",
            " [3.13874000e+00 2.23517418e-02 4.05000000e-02 1.00000000e+06\n",
            "  9.08027839e-04]\n",
            " [3.14124560e+00 2.23517418e-01 4.46776000e-01 1.00000000e+07\n",
            "  1.10470589e-04]\n",
            " [3.14166708e+00 2.23517418e+00 4.70535100e+00 1.00000000e+08\n",
            "  2.36906622e-05]]\n"
          ]
        }
      ]
    },
    {
      "cell_type": "code",
      "source": [
        "fig, ax = plt.subplots() #plot declaration\n",
        "\n",
        "ax.scatter(x=numpyPi[:, 3], y=numpyPi[:,4]) #the graph\n",
        "\n",
        "ax.set_title(\"Number of Samples compared to Relative Error\") #title\n",
        "ax.set_xlabel(\"Number of Samples (N)\") #horizontal axis label\n",
        "ax.set_ylabel(\"Relative Error\") #vertical axis label"
      ],
      "metadata": {
        "colab": {
          "base_uri": "https://localhost:8080/",
          "height": 490
        },
        "id": "xjhFIf2GlKLD",
        "outputId": "bb179b17-67c3-4d9e-b75c-894ecc762321"
      },
      "execution_count": 37,
      "outputs": [
        {
          "output_type": "execute_result",
          "data": {
            "text/plain": [
              "Text(0, 0.5, 'Relative Error')"
            ]
          },
          "metadata": {},
          "execution_count": 37
        },
        {
          "output_type": "display_data",
          "data": {
            "text/plain": [
              "<Figure size 640x480 with 1 Axes>"
            ],
            "image/png": "[encoded data removed]"
          },
          "metadata": {}
        }
      ]
    },
    {
      "cell_type": "code",
      "source": [
        "fig, ax = plt.subplots() #plot declaration\n",
        "\n",
        "ax.scatter(x=numpyPi[:, 3], y=numpyPi[:,1]) #the graph\n",
        "\n",
        "ax.set_title(\"Number of Samples compared to Memory Used\") #title\n",
        "ax.set_xlabel(\"Number of Samples (N)\") #horizontal axis label\n",
        "ax.set_ylabel(\"Memory Used (GiB)\") #vertical axis label"
      ],
      "metadata": {
        "colab": {
          "base_uri": "https://localhost:8080/",
          "height": 490
        },
        "id": "fzKWG1Z3nTIj",
        "outputId": "87d993c8-1c46-4695-e5bf-d0283ac27c2e"
      },
      "execution_count": 38,
      "outputs": [
        {
          "output_type": "execute_result",
          "data": {
            "text/plain": [
              "Text(0, 0.5, 'Memory Used (GiB)')"
            ]
          },
          "metadata": {},
          "execution_count": 38
        },
        {
          "output_type": "display_data",
          "data": {
            "text/plain": [
              "<Figure size 640x480 with 1 Axes>"
            ],
            "image/png": "[encoded data removed]"
          },
          "metadata": {}
        }
      ]
    },
    {
      "cell_type": "code",
      "source": [
        "fig, ax = plt.subplots() #plot declaration\n",
        "\n",
        "ax.scatter(x=numpyPi[:, 3], y=numpyPi[:,2]) #the graph\n",
        "\n",
        "ax.set_title(\"Number of Samples compared to Time Elapsed\") #title\n",
        "ax.set_xlabel(\"Number of Samples (N)\") #horizontal axis label\n",
        "ax.set_ylabel(\"Time Elapsed (sec)\") #vertical axis label"
      ],
      "metadata": {
        "colab": {
          "base_uri": "https://localhost:8080/",
          "height": 490
        },
        "id": "fC0KNCH9uQkc",
        "outputId": "0a3bc246-61df-428f-d353-d95114ae7615"
      },
      "execution_count": 39,
      "outputs": [
        {
          "output_type": "execute_result",
          "data": {
            "text/plain": [
              "Text(0, 0.5, 'Time Elapsed (sec)')"
            ]
          },
          "metadata": {},
          "execution_count": 39
        },
        {
          "output_type": "display_data",
          "data": {
            "text/plain": [
              "<Figure size 640x480 with 1 Axes>"
            ],
            "image/png": "[encoded data removed]"
          },
          "metadata": {}
        }
      ]
    },
    {
      "cell_type": "code",
      "source": [],
      "metadata": {
        "id": "joKLylpmuTVL"
      },
      "execution_count": null,
      "outputs": []
    }
  ]
}