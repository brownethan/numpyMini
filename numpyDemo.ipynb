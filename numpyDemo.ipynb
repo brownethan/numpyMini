{
  "nbformat": 4,
  "nbformat_minor": 0,
  "metadata": {
    "colab": {
      "provenance": [],
      "authorship_tag": "ABX9TyMyV4Eg1ISTPgFfggiJKDHH",
      "include_colab_link": true
    },
    "kernelspec": {
      "name": "python3",
      "display_name": "Python 3"
    },
    "language_info": {
      "name": "python"
    }
  },
  "cells": [
    {
      "cell_type": "markdown",
      "metadata": {
        "id": "view-in-github",
        "colab_type": "text"
      },
      "source": [
        "<a href=\"https://colab.research.google.com/github/brownethan/numpyMini/blob/main/numpyDemo.ipynb\" target=\"_parent\"><img src=\"https://colab.research.google.com/assets/colab-badge.svg\" alt=\"Open In Colab\"/></a>"
      ]
    },
    {
      "cell_type": "code",
      "execution_count": 9,
      "metadata": {
        "id": "TFtMlmdG0C0c"
      },
      "outputs": [],
      "source": [
        "import numpy as np\n",
        "import sys\n",
        "import datetime"
      ]
    },
    {
      "cell_type": "code",
      "source": [
        "def inside_circle(total_count):\n",
        "  x = np.random.uniform(size=total_count)\n",
        "  y = np.random.uniform(size=total_count)\n",
        "  radii = np.sqrt(x*x+y*y)\n",
        "  count = len(radii[np.where(radii<=1.0)])\n",
        "  return count"
      ],
      "metadata": {
        "id": "-7eyQU3b6V0E"
      },
      "execution_count": 2,
      "outputs": []
    },
    {
      "cell_type": "code",
      "source": [
        "def main():\n",
        "    n_samples = int(1000)\n",
        "    start_time = datetime.datetime.now()\n",
        "    counts = inside_circle(n_samples)\n",
        "    my_pi = 4.0 * counts / n_samples\n",
        "    end_time = datetime.datetime.now()\n",
        "    elapsed_time = (end_time - start_time).total_seconds()\n",
        "    size_of_float = np.dtype(np.float64).itemsize\n",
        "    memory_required = 3 * n_samples * size_of_float / (1024**3)\n",
        "    print(\"Pi: {}, memory: {} GiB, time: {} s\".format(my_pi, memory_required,\n",
        "                                                      elapsed_time))\n",
        "\n",
        "if __name__ == '__main__':\n",
        "    main()"
      ],
      "metadata": {
        "colab": {
          "base_uri": "https://localhost:8080/"
        },
        "id": "JnwXybCm61EX",
        "outputId": "0b0a0612-f323-4c06-b4b3-9b574442852f"
      },
      "execution_count": 16,
      "outputs": [
        {
          "output_type": "stream",
          "name": "stdout",
          "text": [
            "Pi: 3.112, memory: 2.2351741790771484e-05 GiB, time: 0.000841 s\n"
          ]
        }
      ]
    }
  ]
}